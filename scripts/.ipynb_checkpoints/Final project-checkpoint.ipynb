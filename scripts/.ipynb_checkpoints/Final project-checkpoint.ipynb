{
 "cells": [
  {
   "cell_type": "markdown",
   "metadata": {},
   "source": [
    "    Introduction\n",
    "    \n",
    "\tI think one of the most important problem right now is covid-19 and his backwash. Many places were closed recently cause it. There were and are huge finance losses and at the moment the situation is not adjusted. I  decided analyze places for current moment. I want to show districts of city which still have some finance problems in the form of closed shops or restaurants. I want to show  which kind of business still have difficulties. In my opinion if some cafe or kind of market still closed government can help them. Иusiness owners who are currently in a difficult condition will be able to take measures for the futureю I want to show top venues for every district, even for every cluster, with and without problems. \n",
    "\tVisual information on the map will be able to more fully show consequences of the virus.\n",
    "\tFor my idea I decided to pick San Francisco city. For one cause I very like this city. Second this place suffered a lot . I believe I will be able to make it.\t\n",
    "    "
   ]
  },
  {
   "cell_type": "markdown",
   "metadata": {},
   "source": [
    "    Data Description\n",
    "\n",
    "    I will use Foursquare for getting top venues per district. When I get list of venues for my analysis I want to use Google Maps. I will have to parse it for every  venues and check current status. In this moment there is special fields for timetable of any place on Google Maps (Note: special field looks like ‘Temporary closed’ or not). I will compare it. After I will show on the maps clusters for every situation. And everyone will be able to make a concludes.\n",
    "    I will use geojson files with area coordinates for city and folium library is neccecary.\n",
    "    Also i have to find coordinates for city districts as json or on the Wikipedia."
   ]
  },
  {
   "cell_type": "code",
   "execution_count": null,
   "metadata": {},
   "outputs": [],
   "source": []
  }
 ],
 "metadata": {
  "kernelspec": {
   "display_name": "Python 3",
   "language": "python",
   "name": "python3"
  },
  "language_info": {
   "codemirror_mode": {
    "name": "ipython",
    "version": 3
   },
   "file_extension": ".py",
   "mimetype": "text/x-python",
   "name": "python",
   "nbconvert_exporter": "python",
   "pygments_lexer": "ipython3",
   "version": "3.7.6"
  }
 },
 "nbformat": 4,
 "nbformat_minor": 4
}
